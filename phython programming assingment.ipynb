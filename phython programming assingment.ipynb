{
 "cells": [
  {
   "cell_type": "code",
   "execution_count": 2,
   "id": "bf03fe32",
   "metadata": {},
   "outputs": [
    {
     "name": "stdout",
     "output_type": "stream",
     "text": [
      "enter the first side:  4\n",
      "enter the second side: 5\n",
      "enter the third side:  5\n",
      "The area of the triangle is 9.17\n"
     ]
    }
   ],
   "source": [
    "#program to find area of triangle\n",
    "a = float(input('enter the first side:  ' ))\n",
    "b = float(input('enter the second side: '))\n",
    "c = float(input('enter the third side:  '))\n",
    "s = (a+b+c)/2\n",
    "area = (s*(s-a)*(s-b)*(s-c))**0.5\n",
    "print('The area of the triangle is %0.2f' %area)"
   ]
  },
  {
   "cell_type": "code",
   "execution_count": 1,
   "id": "3af274fa",
   "metadata": {},
   "outputs": [
    {
     "name": "stdout",
     "output_type": "stream",
     "text": [
      "673\n"
     ]
    }
   ],
   "source": [
    "#phython program to generate random numbers\n",
    "import random\n",
    "print(random .randint (0,1000))"
   ]
  },
  {
   "cell_type": "code",
   "execution_count": 2,
   "id": "c7cd1e6a",
   "metadata": {},
   "outputs": [
    {
     "name": "stdout",
     "output_type": "stream",
     "text": [
      "'hello phython'\n"
     ]
    }
   ],
   "source": [
    "#print 'hello phython'\n",
    "print(\"'hello phython'\")"
   ]
  },
  {
   "cell_type": "code",
   "execution_count": 5,
   "id": "75b6f3ad",
   "metadata": {},
   "outputs": [
    {
     "name": "stdout",
     "output_type": "stream",
     "text": [
      "enter the value of x: 5\n",
      "enter the value of y: 6\n",
      "The value of x after swapping: 6\n",
      "The value of y after swapping: 5\n"
     ]
    }
   ],
   "source": [
    "#phython program to swap two variables\n",
    "x= input('enter the value of x: ')\n",
    "y= input('enter the value of y: ')\n",
    "temp = x\n",
    "x = y\n",
    "y = temp\n",
    "print('The value of x after swapping: {}'.format(x))\n",
    "print('The value of y after swapping: {}'.format(y))"
   ]
  },
  {
   "cell_type": "code",
   "execution_count": 9,
   "id": "d0839c8a",
   "metadata": {},
   "outputs": [
    {
     "name": "stdout",
     "output_type": "stream",
     "text": [
      " Please Enter the First Value Number 1: 10\n",
      " Please Enter the Second Value Number 2: 30\n",
      "The Sum of 10.0 and 30.0 = 40.0\n",
      "The Division of 10.0 and 30.0 = 0.3333333333333333\n"
     ]
    }
   ],
   "source": [
    "#phython programming to do arithmetic operations addition and division\n",
    "\n",
    "num1 = float(input(\" Please Enter the First Value Number 1: \"))\n",
    "num2 = float(input(\" Please Enter the Second Value Number 2: \"))\n",
    "add = num1 + num2\n",
    "div = num1 / num2\n",
    "print(\"The Sum of {0} and {1} = {2}\".format(num1, num2, add))\n",
    "print(\"The Division of {0} and {1} = {2}\".format(num1, num2, div))\n",
    "\n"
   ]
  },
  {
   "cell_type": "code",
   "execution_count": null,
   "id": "7ec2b58d",
   "metadata": {},
   "outputs": [],
   "source": []
  },
  {
   "cell_type": "code",
   "execution_count": null,
   "id": "36a33fde",
   "metadata": {},
   "outputs": [],
   "source": []
  }
 ],
 "metadata": {
  "kernelspec": {
   "display_name": "Python 3 (ipykernel)",
   "language": "python",
   "name": "python3"
  },
  "language_info": {
   "codemirror_mode": {
    "name": "ipython",
    "version": 3
   },
   "file_extension": ".py",
   "mimetype": "text/x-python",
   "name": "python",
   "nbconvert_exporter": "python",
   "pygments_lexer": "ipython3",
   "version": "3.10.1"
  }
 },
 "nbformat": 4,
 "nbformat_minor": 5
}
